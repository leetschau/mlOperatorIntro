{
 "cells": [
  {
   "cell_type": "markdown",
   "metadata": {},
   "source": [
    "# 二次型系统的参数估计和异常检测"
   ]
  },
  {
   "cell_type": "markdown",
   "metadata": {},
   "source": [
    "二次型系统（[Quadratic form](https://en.wikipedia.org/wiki/Quadratic_form)）是只包含二次项，不包含常数和一次项的单变量或者多变量系统，例如下面分别是包含1, 2 和 3个特征变量的二次型系统："
   ]
  },
  {
   "cell_type": "markdown",
   "metadata": {},
   "source": [
    "$$ y = a x^2 $$"
   ]
  },
  {
   "cell_type": "markdown",
   "metadata": {},
   "source": [
    "$$ y = a x^2 + b xy + c y^2 $$"
   ]
  },
  {
   "cell_type": "markdown",
   "metadata": {},
   "source": [
    "$$ y = a x^2 + b y^2 + c z^2 + d xy + e xz + f yz $$"
   ]
  },
  {
   "cell_type": "markdown",
   "metadata": {},
   "source": [
    "算子的 **输入** 是一个包含n个特征量（自变量）和1个响应变量的 dataframe，\n",
    "根据算子 **参数** `label` 和 `features` 指定。"
   ]
  },
  {
   "cell_type": "markdown",
   "metadata": {},
   "source": [
    "## 实例分析\n",
    "\n",
    "创建一个包含3个特征变量和一个响应变量的 dataframe 作为算子输入:"
   ]
  },
  {
   "cell_type": "code",
   "execution_count": 1,
   "metadata": {},
   "outputs": [],
   "source": [
    "import pandas as pd\n",
    "import numpy as np\n",
    "from itertools import combinations\n",
    "import statsmodels.api as sm\n",
    "from statsmodels.stats.outliers_influence import OLSInfluence\n",
    "\n",
    "np.random.seed(1)\n",
    "n = 200\n",
    "x1 = np.random.uniform(-10, 10, n)\n",
    "x2 = np.random.uniform(-4, 4, n)\n",
    "x3 = np.random.uniform(-2, 8, n)\n",
    "y = 2.89 * x1 ** 2 + 4.33 * x2 ** 2 + 6.1 * x1 * x2 + 5.9 * x2 * x3 + np.random.normal(size=n)\n",
    "\n",
    "label = 'y'\n",
    "features = 'x1,x2,x3'\n",
    "data = pd.DataFrame(data=[x1, x2, x3, y]).T"
   ]
  },
  {
   "cell_type": "markdown",
   "metadata": {},
   "source": [
    "输入 dataframe 如下所示："
   ]
  },
  {
   "cell_type": "code",
   "execution_count": 2,
   "metadata": {},
   "outputs": [
    {
     "name": "stdout",
     "output_type": "stream",
     "text": [
      "          0         1         2           3\n",
      "0 -1.659560  3.601409  7.594343  190.073972\n",
      "1  4.406490  0.453226  6.039609   85.946140\n",
      "2 -9.997713  3.324851 -1.676769  101.002978\n",
      "3 -3.953349  1.132530  5.093873   57.338514\n",
      "4 -7.064882 -0.879938  2.650015  172.213852\n"
     ]
    }
   ],
   "source": [
    "print(data.head())"
   ]
  },
  {
   "cell_type": "markdown",
   "metadata": {},
   "source": [
    "定义公式生成函数，输入特征变量名称列表和向量变量名称，返回对应的二次型计算公式："
   ]
  },
  {
   "cell_type": "code",
   "execution_count": 3,
   "metadata": {},
   "outputs": [],
   "source": [
    "def build_formula(label: str, features: str) -> str:\n",
    "    featlist = features.split(',')\n",
    "    quads = ' + '.join(map(lambda feat: 'I(' + feat + ' ** 2)', featlist))\n",
    "    ints = ' + '.join(\n",
    "        map(lambda feat_pair: 'I(%s * %s)' % (feat_pair[0], feat_pair[1]),\n",
    "                 combinations(featlist, 2)))\n",
    "    return \"%s ~ %s + %s\" % (label, quads, ints)"
   ]
  },
  {
   "cell_type": "markdown",
   "metadata": {},
   "source": [
    "用上面定义的特征量和响应量名称测试公式输出："
   ]
  },
  {
   "cell_type": "code",
   "execution_count": 4,
   "metadata": {},
   "outputs": [
    {
     "data": {
      "text/plain": [
       "'y ~ I(x1 ** 2) + I(x2 ** 2) + I(x3 ** 2) + I(x1 * x2) + I(x1 * x3) + I(x2 * x3)'"
      ]
     },
     "execution_count": 4,
     "metadata": {},
     "output_type": "execute_result"
    }
   ],
   "source": [
    "build_formula(label, features)"
   ]
  },
  {
   "cell_type": "markdown",
   "metadata": {},
   "source": [
    "使用上面的测试数据，结合二次型生成函数，检验计算结果："
   ]
  },
  {
   "cell_type": "code",
   "execution_count": 5,
   "metadata": {
    "scrolled": true
   },
   "outputs": [
    {
     "name": "stdout",
     "output_type": "stream",
     "text": [
      "Intercept     0.080076\n",
      "I(x1 ** 2)    2.888446\n",
      "I(x2 ** 2)    4.342995\n",
      "I(x3 ** 2)   -0.003841\n",
      "I(x1 * x2)    6.095735\n",
      "I(x1 * x3)   -0.001274\n",
      "I(x2 * x3)    5.910295\n",
      "dtype: float64\n"
     ]
    }
   ],
   "source": [
    "res = sm.OLS.from_formula(build_formula(label, features), data=data).fit()\n",
    "print(res.params)"
   ]
  },
  {
   "cell_type": "markdown",
   "metadata": {},
   "source": [
    "把参数估计结果与第一个代码块中 $y$ 的表达式比较，考虑误差项的影响，可知参数估计结果正确。"
   ]
  },
  {
   "cell_type": "markdown",
   "metadata": {},
   "source": [
    "## 系统评估\n",
    "\n",
    "二次型系统评估的目标是找出系统中的异常值。\n",
    "算子的 **输入** 与二次型参数估计相同，**参数** 除了二次型估计的参数 *lable* 和 *features* 外，还有异常判断阈值 *lt*，默认值为3。\n",
    "**输出** 是在输入 dataframe 上增加一列作为异常判断标记，1表示超过阈值的异常值，0表示非异常值。\n",
    "\n",
    "一个观测的 [studentized residual](https://en.wikipedia.org/wiki/Studentized_residual) 值标示了它的异常程度，大于阈值的被作为异常值标记出来。下面使用 `student_resid` 参数给出模型中每个观测的 studentized residual，并筛选出大于阈值 `threshold` 的观测："
   ]
  },
  {
   "cell_type": "code",
   "execution_count": 6,
   "metadata": {},
   "outputs": [
    {
     "data": {
      "text/plain": [
       "0    0.705898\n",
       "1    0.699350\n",
       "2   -0.191339\n",
       "3   -0.181196\n",
       "4    0.480180\n",
       "Name: student_resid, dtype: float64"
      ]
     },
     "execution_count": 6,
     "metadata": {},
     "output_type": "execute_result"
    }
   ],
   "source": [
    "rst = OLSInfluence(res).summary_frame().student_resid\n",
    "rst.head()"
   ]
  },
  {
   "cell_type": "markdown",
   "metadata": {},
   "source": [
    "筛选出异常值，追加到 data 的 *outlier* 列中，得到算子输出："
   ]
  },
  {
   "cell_type": "code",
   "execution_count": 7,
   "metadata": {},
   "outputs": [
    {
     "data": {
      "text/html": [
       "<div>\n",
       "<style scoped>\n",
       "    .dataframe tbody tr th:only-of-type {\n",
       "        vertical-align: middle;\n",
       "    }\n",
       "\n",
       "    .dataframe tbody tr th {\n",
       "        vertical-align: top;\n",
       "    }\n",
       "\n",
       "    .dataframe thead th {\n",
       "        text-align: right;\n",
       "    }\n",
       "</style>\n",
       "<table border=\"1\" class=\"dataframe\">\n",
       "  <thead>\n",
       "    <tr style=\"text-align: right;\">\n",
       "      <th></th>\n",
       "      <th>0</th>\n",
       "      <th>1</th>\n",
       "      <th>2</th>\n",
       "      <th>3</th>\n",
       "      <th>outlier</th>\n",
       "    </tr>\n",
       "  </thead>\n",
       "  <tbody>\n",
       "    <tr>\n",
       "      <th>0</th>\n",
       "      <td>-1.659560</td>\n",
       "      <td>3.601409</td>\n",
       "      <td>7.594343</td>\n",
       "      <td>190.073972</td>\n",
       "      <td>False</td>\n",
       "    </tr>\n",
       "    <tr>\n",
       "      <th>1</th>\n",
       "      <td>4.406490</td>\n",
       "      <td>0.453226</td>\n",
       "      <td>6.039609</td>\n",
       "      <td>85.946140</td>\n",
       "      <td>False</td>\n",
       "    </tr>\n",
       "    <tr>\n",
       "      <th>2</th>\n",
       "      <td>-9.997713</td>\n",
       "      <td>3.324851</td>\n",
       "      <td>-1.676769</td>\n",
       "      <td>101.002978</td>\n",
       "      <td>False</td>\n",
       "    </tr>\n",
       "    <tr>\n",
       "      <th>3</th>\n",
       "      <td>-3.953349</td>\n",
       "      <td>1.132530</td>\n",
       "      <td>5.093873</td>\n",
       "      <td>57.338514</td>\n",
       "      <td>False</td>\n",
       "    </tr>\n",
       "    <tr>\n",
       "      <th>4</th>\n",
       "      <td>-7.064882</td>\n",
       "      <td>-0.879938</td>\n",
       "      <td>2.650015</td>\n",
       "      <td>172.213852</td>\n",
       "      <td>False</td>\n",
       "    </tr>\n",
       "  </tbody>\n",
       "</table>\n",
       "</div>"
      ],
      "text/plain": [
       "          0         1         2           3  outlier\n",
       "0 -1.659560  3.601409  7.594343  190.073972    False\n",
       "1  4.406490  0.453226  6.039609   85.946140    False\n",
       "2 -9.997713  3.324851 -1.676769  101.002978    False\n",
       "3 -3.953349  1.132530  5.093873   57.338514    False\n",
       "4 -7.064882 -0.879938  2.650015  172.213852    False"
      ]
     },
     "execution_count": 7,
     "metadata": {},
     "output_type": "execute_result"
    }
   ],
   "source": [
    "lt = 3\n",
    "data['outlier'] = rst >= lt\n",
    "data.head()"
   ]
  },
  {
   "cell_type": "markdown",
   "metadata": {},
   "source": [
    "列出异常值："
   ]
  },
  {
   "cell_type": "code",
   "execution_count": 8,
   "metadata": {},
   "outputs": [
    {
     "data": {
      "text/html": [
       "<div>\n",
       "<style scoped>\n",
       "    .dataframe tbody tr th:only-of-type {\n",
       "        vertical-align: middle;\n",
       "    }\n",
       "\n",
       "    .dataframe tbody tr th {\n",
       "        vertical-align: top;\n",
       "    }\n",
       "\n",
       "    .dataframe thead th {\n",
       "        text-align: right;\n",
       "    }\n",
       "</style>\n",
       "<table border=\"1\" class=\"dataframe\">\n",
       "  <thead>\n",
       "    <tr style=\"text-align: right;\">\n",
       "      <th></th>\n",
       "      <th>0</th>\n",
       "      <th>1</th>\n",
       "      <th>2</th>\n",
       "      <th>3</th>\n",
       "      <th>outlier</th>\n",
       "    </tr>\n",
       "  </thead>\n",
       "  <tbody>\n",
       "    <tr>\n",
       "      <th>103</th>\n",
       "      <td>-2.854605</td>\n",
       "      <td>0.555955</td>\n",
       "      <td>-0.252341</td>\n",
       "      <td>18.338275</td>\n",
       "      <td>True</td>\n",
       "    </tr>\n",
       "  </tbody>\n",
       "</table>\n",
       "</div>"
      ],
      "text/plain": [
       "            0         1         2          3  outlier\n",
       "103 -2.854605  0.555955 -0.252341  18.338275     True"
      ]
     },
     "execution_count": 8,
     "metadata": {},
     "output_type": "execute_result"
    }
   ],
   "source": [
    "data[data['outlier']]"
   ]
  }
 ],
 "metadata": {
  "kernelspec": {
   "display_name": "Python 3",
   "language": "python",
   "name": "python3"
  },
  "language_info": {
   "codemirror_mode": {
    "name": "ipython",
    "version": 3
   },
   "file_extension": ".py",
   "mimetype": "text/x-python",
   "name": "python",
   "nbconvert_exporter": "python",
   "pygments_lexer": "ipython3",
   "version": "3.6.6"
  }
 },
 "nbformat": 4,
 "nbformat_minor": 2
}
