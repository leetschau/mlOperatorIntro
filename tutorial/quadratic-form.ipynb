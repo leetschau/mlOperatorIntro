{
 "cells": [
  {
   "cell_type": "markdown",
   "metadata": {},
   "source": [
    "# 二次型系统的参数估计和异常检测"
   ]
  },
  {
   "cell_type": "markdown",
   "metadata": {},
   "source": [
    "二次型系统（[Quadratic form](https://en.wikipedia.org/wiki/Quadratic_form)）是只包含二次项，不包含常数和一次项的单变量或者多变量系统，例如下面分别是包含1, 2 和 3个特征变量的二次型系统：\n",
    "\n",
    "$$\n",
    "\\begin{align}\n",
    "y &= a x^2 \\\\\\\\\n",
    "y &= a x^2 + b xy + c y^2 \\\\\\\\\n",
    "y &= a x^2 + b y^2 + c z^2 + d xy + e xz + f yz \\\\\\\\\n",
    "\\end{align}\n",
    "$$"
   ]
  },
  {
   "cell_type": "markdown",
   "metadata": {},
   "source": [
    "算子的 **输入** 是一个包含n个特征量（自变量）和1个响应变量的 dataframe，\n",
    "根据算子 **参数** `label` 和 `features` 指定。"
   ]
  },
  {
   "cell_type": "markdown",
   "metadata": {},
   "source": [
    "## 实例分析\n",
    "\n",
    "创建一个包含3个特征变量和一个响应变量的 dataframe 作为示例输入:"
   ]
  },
  {
   "cell_type": "code",
   "execution_count": 1,
   "metadata": {},
   "outputs": [],
   "source": [
    "import pandas as pd\n",
    "import numpy as np\n",
    "from itertools import combinations\n",
    "import statsmodels.api as sm\n",
    "from statsmodels.stats.outliers_influence import OLSInfluence\n",
    "\n",
    "n = 200\n",
    "x1 = np.random.uniform(-10, 10, n)\n",
    "x2 = np.random.uniform(-4, 4, n)\n",
    "x3 = np.random.uniform(-2, 8, n)\n",
    "y = 2.89 * x1 ** 2 + 4.33 * x2 ** 2 + 6.1 * x1 * x2 + 5.9 * x2 * x3 + np.random.normal(size=n)\n",
    "\n",
    "label = 'y'\n",
    "features = 'x1,x2,x3'\n",
    "data = pd.DataFrame(data=[x1, x2, x3, y]).T"
   ]
  },
  {
   "cell_type": "markdown",
   "metadata": {},
   "source": [
    "定义公式生成函数，输入特征变量名称列表和向量变量名称，返回对应的二次型计算公式："
   ]
  },
  {
   "cell_type": "code",
   "execution_count": 2,
   "metadata": {},
   "outputs": [],
   "source": [
    "def build_formula(label: str, features: str) -> str:\n",
    "    featlist = features.split(',')\n",
    "    quads = ' + '.join(map(lambda feat: 'I(' + feat + ' ** 2)', featlist))\n",
    "    ints = ' + '.join(\n",
    "        map(lambda feat_pair: 'I(%s * %s)' % (feat_pair[0], feat_pair[1]),\n",
    "                 combinations(featlist, 2)))\n",
    "    return \"%s ~ %s + %s\" % (label, quads, ints)"
   ]
  },
  {
   "cell_type": "markdown",
   "metadata": {},
   "source": [
    "用上面定义的特征量和响应量名称测试公式输出："
   ]
  },
  {
   "cell_type": "code",
   "execution_count": 3,
   "metadata": {},
   "outputs": [
    {
     "data": {
      "text/plain": [
       "'y ~ I(x1 ** 2) + I(x2 ** 2) + I(x3 ** 2) + I(x1 * x2) + I(x1 * x3) + I(x2 * x3)'"
      ]
     },
     "execution_count": 3,
     "metadata": {},
     "output_type": "execute_result"
    }
   ],
   "source": [
    "build_formula(label, features)"
   ]
  },
  {
   "cell_type": "markdown",
   "metadata": {},
   "source": [
    "使用上面的测试数据，结合二次型生成函数，检验计算结果："
   ]
  },
  {
   "cell_type": "code",
   "execution_count": 4,
   "metadata": {},
   "outputs": [
    {
     "name": "stdout",
     "output_type": "stream",
     "text": [
      "Intercept     0.012694\n",
      "I(x1 ** 2)    2.890727\n",
      "I(x2 ** 2)    4.336708\n",
      "I(x3 ** 2)   -0.005270\n",
      "I(x1 * x2)    6.100649\n",
      "I(x1 * x3)   -0.006394\n",
      "I(x2 * x3)    5.900841\n",
      "dtype: float64\n"
     ]
    }
   ],
   "source": [
    "res = sm.OLS.from_formula(build_formula(label, features), data=data).fit()\n",
    "print(res.params)"
   ]
  },
  {
   "cell_type": "markdown",
   "metadata": {},
   "source": [
    "## 系统评估\n",
    "\n",
    "二次型系统评估的目标是找出系统中的异常值。\n",
    "一个观测的 [studentized residual](https://en.wikipedia.org/wiki/Studentized_residual) 值标示了它的异常程度，大于阈值的被作为异常值标记出来。下面使用 `student_resid` 参数给出模型中每个观测的 studentized residual，并筛选出大于阈值 `threshold` 的观测："
   ]
  },
  {
   "cell_type": "code",
   "execution_count": 6,
   "metadata": {},
   "outputs": [
    {
     "data": {
      "text/plain": [
       "0   -0.467812\n",
       "1   -0.658238\n",
       "2    0.830224\n",
       "3    0.818714\n",
       "4   -0.298083\n",
       "Name: student_resid, dtype: float64"
      ]
     },
     "execution_count": 6,
     "metadata": {},
     "output_type": "execute_result"
    }
   ],
   "source": [
    "rst = OLSInfluence(res).summary_frame().student_resid\n",
    "rst.head()"
   ]
  },
  {
   "cell_type": "markdown",
   "metadata": {},
   "source": [
    "筛选出异常值："
   ]
  },
  {
   "cell_type": "code",
   "execution_count": 14,
   "metadata": {},
   "outputs": [
    {
     "data": {
      "text/plain": [
       "20     2.166376\n",
       "23     2.419564\n",
       "41    -2.813418\n",
       "49    -2.866460\n",
       "88     2.252464\n",
       "103    2.115861\n",
       "146   -2.084009\n",
       "199    2.463653\n",
       "Name: student_resid, dtype: float64"
      ]
     },
     "execution_count": 14,
     "metadata": {},
     "output_type": "execute_result"
    }
   ],
   "source": [
    "threshold = 2\n",
    "rst[lambda x: abs(x) > threshold]"
   ]
  }
 ],
 "metadata": {
  "kernelspec": {
   "display_name": "Python [conda env:anaconda]",
   "language": "python",
   "name": "conda-env-anaconda-py"
  },
  "language_info": {
   "codemirror_mode": {
    "name": "ipython",
    "version": 3
   },
   "file_extension": ".py",
   "mimetype": "text/x-python",
   "name": "python",
   "nbconvert_exporter": "python",
   "pygments_lexer": "ipython3",
   "version": "3.6.6"
  }
 },
 "nbformat": 4,
 "nbformat_minor": 2
}
